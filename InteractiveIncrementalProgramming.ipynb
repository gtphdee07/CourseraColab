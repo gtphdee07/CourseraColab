{
  "nbformat": 4,
  "nbformat_minor": 0,
  "metadata": {
    "colab": {
      "provenance": [],
      "include_colab_link": true
    },
    "kernelspec": {
      "name": "python3",
      "display_name": "Python 3"
    },
    "language_info": {
      "name": "python"
    }
  },
  "cells": [
    {
      "cell_type": "markdown",
      "metadata": {
        "id": "view-in-github",
        "colab_type": "text"
      },
      "source": [
        "<a href=\"https://colab.research.google.com/github/gtphdee07/CourseraColab/blob/main/InteractiveIncrementalProgramming.ipynb\" target=\"_parent\"><img src=\"https://colab.research.google.com/assets/colab-badge.svg\" alt=\"Open In Colab\"/></a>"
      ]
    },
    {
      "cell_type": "code",
      "source": [
        "!!pip install litellm\n",
        "\n",
        "# Important!!!\n",
        "#\n",
        "# <---- Set your 'OPENAI_API_KEY' as a secret over there with the \"key\" icon\n",
        "#\n",
        "#\n",
        "import os\n",
        "from google.colab import userdata\n",
        "api_key = userdata.get('OPENAI_API_KEY')\n",
        "os.environ['OPENAI_API_KEY'] = api_key"
      ],
      "metadata": {
        "id": "KEYrzG2vB8Ip"
      },
      "execution_count": 1,
      "outputs": []
    },
    {
      "cell_type": "code",
      "execution_count": 2,
      "metadata": {
        "colab": {
          "base_uri": "https://localhost:8080/"
        },
        "id": "Mwe2eeOQB0cC",
        "outputId": "77c18a5e-34cf-4387-a0ad-ced68856d409"
      },
      "outputs": [
        {
          "output_type": "stream",
          "name": "stdout",
          "text": [
            "What function may I help you write?Write a function to swap key value pairs in a python 3 dictionary\n",
            "To swap the key-value pairs in a Python dictionary, we can create a new dictionary where the keys become values and the values become keys. However, note that this operation assumes the original dictionary has unique values—that is, no two keys map to the same value. If there are duplicate values, swapping will result in data loss as keys in the resulting dictionary must be unique.  \n",
            "\n",
            "Here's a Python function that performs this swap:\n",
            "\n",
            "```python\n",
            "def swap_key_value_pairs(original_dict):\n",
            "    # Create a new dictionary with swapped key-value pairs\n",
            "    swapped_dict = {value: key for key, value in original_dict.items()}\n",
            "    return swapped_dict\n",
            "\n",
            "# Example usage:\n",
            "original_dict = {'a': 1, 'b': 2, 'c': 3}\n",
            "swapped = swap_key_value_pairs(original_dict)\n",
            "print(swapped)  # Output: {1: 'a', 2: 'b', 3: 'c'}\n",
            "```\n",
            "\n",
            "This function uses a dictionary comprehension to generate a new dictionary by iterating over the original dictionary's items. The `items()` method returns pairs of keys and values, which are then swapped when constructing the new dictionary.\n",
            "\n",
            "Ensure that the original dictionary has unique values to avoid losing data in the swap process.\n"
          ]
        }
      ],
      "source": [
        "from litellm import completion\n",
        "from typing import List, Dict\n",
        "import re\n",
        "\n",
        "\n",
        "def generate_response(messages: List[Dict]) -> str:\n",
        "    \"\"\"Call LLM to get response\"\"\"\n",
        "    response = completion(\n",
        "        model=\"openai/gpt-4o\",\n",
        "        messages=messages,\n",
        "        max_tokens=1024\n",
        "    )\n",
        "    return response.choices[0].message.content\n",
        "\n",
        "\n",
        "what_to_help_with = input(\"What function may I help you write?\")\n",
        "\n",
        "messages = [\n",
        "    {\"role\": \"system\", \"content\": \"You are an expert software engineer that prefers functional programming. \"},\n",
        "    {\"role\": \"user\", \"content\": what_to_help_with}\n",
        "]\n",
        "\n",
        "basic_code = generate_response(messages)\n",
        "print(basic_code)\n"
      ]
    },
    {
      "cell_type": "code",
      "execution_count": null,
      "metadata": {
        "colab": {
          "base_uri": "https://localhost:8080/"
        },
        "outputId": "8ad29cf6-8e41-4172-9c5f-47c68ddbaa2c",
        "id": "6gJ4ba2j3mh8"
      },
      "outputs": [
        {
          "output_type": "stream",
          "name": "stdout",
          "text": [
            "Certainly! In functional programming, we often prefer using immutable data structures, so let's create a function that returns a new dictionary with the keys and values swapped from an original dictionary. Here's a Python function to accomplish this:\n",
            "\n",
            "```python\n",
            "def swap_dictionary_keys_values(original_dict):\n",
            "    return {value: key for key, value in original_dict.items()}\n",
            "\n",
            "# Example usage:\n",
            "original_dict = {'a': 1, 'b': 2, 'c': 3}\n",
            "swapped_dict = swap_dictionary_keys_values(original_dict)\n",
            "print(swapped_dict)  # Output: {1: 'a', 2: 'b', 3: 'c'}\n",
            "```\n",
            "\n",
            "This function defines `swap_dictionary_keys_values`, which takes an input dictionary, `original_dict`, and uses a dictionary comprehension to create a new dictionary where each key-value pair is reversed. Note that this approach assumes that all original values are unique, as dictionary keys must be unique. If there are duplicate values in the original dictionary, this function will keep the last key-value pair encountered for each value.\n"
          ]
        }
      ],
      "source": [
        "from litellm import completion\n",
        "from typing import List, Dict\n",
        "import re\n",
        "\n",
        "\n",
        "def generate_response(messages: List[Dict]) -> str:\n",
        "    \"\"\"Call LLM to get response\"\"\"\n",
        "    response = completion(\n",
        "        model=\"openai/gpt-4o\",\n",
        "        messages=messages,\n",
        "        max_tokens=1024\n",
        "    )\n",
        "    return response.choices[0].message.content\n",
        "\n",
        "\n",
        "\n",
        "\n",
        "def extract_code_and_comments_markdown(text):\n",
        "    \"\"\"\n",
        "    Extracts code blocks and comments from text, assuming markdown format.\n",
        "    \"\"\"\n",
        "    code_blocks = []\n",
        "    comments = []\n",
        "    # Regular expression to find fenced code blocks\n",
        "    code_block_regex = r\"```(?P<language>\\w+)?\\n(?P<code>.*?)```\" # Match ``` optionally followed by language, then code, then ```\n",
        "\n",
        "    matches = re.finditer(code_block_regex, text, re.DOTALL) # re.DOTALL makes '.' match newlines\n",
        "\n",
        "    last_end = 0\n",
        "    for match in matches:\n",
        "        # Text before the code block is treated as comments\n",
        "        comments.append(text[last_end:match.start()].strip())\n",
        "\n",
        "        # Extract the code block content\n",
        "        language = match.group(\"language\") # Extract the language if specified\n",
        "        code = match.group(\"code\").strip()\n",
        "        code_blocks.append({\"language\": language, \"code\": code})\n",
        "\n",
        "        last_end = match.end()\n",
        "\n",
        "    # Any remaining text after the last code block is treated as comments\n",
        "    comments.append(text[last_end:].strip())\n",
        "\n",
        "    return code_blocks, comments\n",
        "\n",
        "\n",
        "\n",
        "messages = [\n",
        "    {\"role\": \"system\", \"content\": \"You are an expert software engineer that prefers functional programming.\"},\n",
        "    {\"role\": \"user\", \"content\": \"Write a function to swap the keys and values in a dictionary.\"}\n",
        "]\n",
        "\n",
        "functional_code_response = generate_response(messages)\n",
        "print(functional_code_response)\n",
        "functional_code,functional_comments = extract_code_and_comments_markdown(functional_code_response)\n",
        "\n",
        "messages = [\n",
        "    {\"role\": \"system\", \"content\": \"You are an expert software engineer that prefers functional programming.\"},\n",
        "    {\"role\": \"assistant\", \"content\": functional_code},\n",
        "    {\"role\": \"user\", \"content\": \"Please add comprehensive documentation to this code. The documentation should include function descriptions, parameter descriptions, return value descriptions, example usage, and edge cases.\"}\n",
        "]\n",
        "\n",
        "documented_code_response = generate_response(messages)\n",
        "print(documented_code_response)\n",
        "documented_code,documented_comments = extract_code_and_comments_markdown(documented_code_response)\n",
        "\n",
        "\n",
        "\n",
        "#code_blocks, comments = extract_code_and_comments_markdown(functional_code_response)"
      ]
    }
  ]
}